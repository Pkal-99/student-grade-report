{
 "cells": [
  {
   "cell_type": "markdown",
   "id": "4d4366b4-849c-4959-a749-d5e6021ce06e",
   "metadata": {},
   "source": [
    "# **Student Report Card Generator**\n",
    "This system allows users (teachers) to enter students' names, subjects, and scores, then calculate averages, assign grades, and generate a report for each student. This project simulates real-life school report systems and provides hands-on experience with:\n",
    "- Input collection\n",
    "- Loops & conditionals\n",
    "- Dictionaries & lists\n",
    "- Functions\n",
    "- File handling (to save reports)\n",
    "\n",
    "**System Capabilities**\n",
    "- Add multiple students with scores in multiple subjects\n",
    "- Let the user choose how many subjects to record\n",
    "- Calculate each student’s average score\n",
    "- Assign letter grades based on score range\n",
    "- Add pass/fail remark based on average\n",
    "- Highlight the top performer after grading all students\n",
    "- Save each student’s report to an individual .txt file\n",
    "- Save a combined summary report for all students\n",
    "\n",
    "**By: Kaleab Ayele**\n",
    "\n",
    "29 May 2025"
   ]
  },
  {
   "cell_type": "markdown",
   "id": "1f525a39-d864-4ad1-a479-52e053423ebe",
   "metadata": {},
   "source": [
    "### **Step 1:** Define the grade system which each subject will get grade based on score."
   ]
  },
  {
   "cell_type": "markdown",
   "id": "30d5e271-81ef-4056-877b-7a682d2185a7",
   "metadata": {},
   "source": [
    "**Explanation:** This function get_grade takes a numerical score as input and returns a letter grade based on the score range. It checks the score starting from the highest grade (A) down to the lowest passing grade (D), and if the score is below 60, it returns \"F\" for fail. Essentially, it converts a numeric score into a standard academic letter grade."
   ]
  },
  {
   "cell_type": "code",
   "execution_count": 59,
   "id": "ec8e6393-f164-4b72-bb8a-bb62a0c05bad",
   "metadata": {},
   "outputs": [],
   "source": [
    "def get_grade(score):\n",
    "    if score >= 90:\n",
    "        return \"A\"\n",
    "    elif score >= 80:\n",
    "        return \"B\"\n",
    "    elif score >= 70:\n",
    "        return \"C\"\n",
    "    elif score >= 60:\n",
    "        return \"D\"\n",
    "    else:\n",
    "        return \"F\""
   ]
  },
  {
   "cell_type": "markdown",
   "id": "e845325f-72aa-40bb-a436-d0a011eab3c0",
   "metadata": {},
   "source": [
    "### **Step 2:** Create a Function to Add Student Data "
   ]
  },
  {
   "cell_type": "markdown",
   "id": "bffb009b-d035-4435-8eae-be053dae5a20",
   "metadata": {},
   "source": [
    "**Explanation:** This function collects subject names and student scores from user input. It stores each student’s scores in a dictionary keyed by their name, then returns the student data and the list of subjects."
   ]
  },
  {
   "cell_type": "code",
   "execution_count": 63,
   "id": "c2cbb4cc-65ef-4298-a8a4-2f8ae489d6f8",
   "metadata": {},
   "outputs": [],
   "source": [
    "def enter_student_data():\n",
    "    students = {}\n",
    "    subjects = []\n",
    "\n",
    "    num_subjects = int(input(\"Enter the number of subjects: \"))\n",
    "    for i in range(num_subjects):\n",
    "        subject = input(f\"Enter name of subject {i + 1}: \").title()\n",
    "        subjects.append(subject)\n",
    "\n",
    "    num_students = int(input(\"Enter the number of students: \"))\n",
    "\n",
    "    for _ in range (num_students):\n",
    "        name = input(\"\\nEnter student name: \")\n",
    "        scores ={}\n",
    "        for subject in subjects:\n",
    "            score = float(input(f\"Enter {name}'s score in {subject}: \"))\n",
    "            scores[subject] = score\n",
    "            \n",
    "        students[name] = scores\n",
    "    return students, subjects\n",
    "\n"
   ]
  },
  {
   "cell_type": "markdown",
   "id": "ebfe1ee8-b0b3-4680-a004-555c698c14fd",
   "metadata": {},
   "source": [
    "### **Step 3:** Generate and Save Individual Reports"
   ]
  },
  {
   "cell_type": "markdown",
   "id": "0403aa5f-c44e-4cee-9cac-5ed592d68629",
   "metadata": {},
   "source": [
    "**Explanation:** This function creates and saves a report file for each student with their scores, average, grade, and pass/fail status. It also identifies and returns the top student and their average score."
   ]
  },
  {
   "cell_type": "code",
   "execution_count": 67,
   "id": "c9f67cf7-3d47-40b4-8032-7a375846bf54",
   "metadata": {},
   "outputs": [],
   "source": [
    "def generate_and_save_reports(students):\n",
    "    top_student = \"\"\n",
    "    top_average = 0\n",
    "\n",
    "    for name, subjects in students.items():\n",
    "        total = sum(subjects.values())\n",
    "        average = total / len(subjects)\n",
    "        grade = get_grade(average)\n",
    "        status = \"Pass\" if average >= 50 else \"Fail\"\n",
    "\n",
    "        if average > top_average:\n",
    "            top_average = average\n",
    "            top_student = name\n",
    "        #save to individual file\n",
    "        with open(f\"{name}_report.txt\", \"w\") as file:\n",
    "            file.write(f\" Report for {name}\\n\")\n",
    "            for subject, score in subjects.items():\n",
    "                file.write(f\"{subject}: {score}\\n\")\n",
    "            file.write(f\"Average: {average:.2f}\\n\")\n",
    "            file.write(f\"Grade: {grade}\\n\")\n",
    "            file.write(f\"Status: {status}\\n\")\n",
    "    print(\"All individual reports saved successfully.\")\n",
    "    return top_student, top_average\n",
    "    "
   ]
  },
  {
   "cell_type": "markdown",
   "id": "5637c0df-bbe1-40bd-af46-d436d8be970d",
   "metadata": {},
   "source": [
    "### **Step 4:** Generate Class Summary"
   ]
  },
  {
   "cell_type": "markdown",
   "id": "7def4242-83d1-49f6-85f5-72a8d042407e",
   "metadata": {},
   "source": [
    "**Explanation:** This function save_class_summary writes a summary report for all students into a single file, including their scores, average, grade, and pass/fail status. It also highlights the top-performing student and prints a confirmation message when done."
   ]
  },
  {
   "cell_type": "code",
   "execution_count": 71,
   "id": "ef44f37a-0f90-4bce-84db-8d2beea63244",
   "metadata": {},
   "outputs": [],
   "source": [
    "def save_class_summary(students, top_student, top_average):\n",
    "    with open(\"class_summary.txt\", \"w\") as file:\n",
    "        for name, subjects in students.items():\n",
    "            total = sum(subjects.values())\n",
    "            average = total / len(subjects)\n",
    "            grade = get_grade(average)\n",
    "            status = \"Pass\" if average >= 50 else \"Fail\"\n",
    "            file.write(f\"Report for {name}\\n\")\n",
    "            for subject,  score in subjects.items():\n",
    "                file.write(f\"{subject}: {score}\\n\")\n",
    "            file.write(f\"Average: {average:.2f}, Grade: {grade}, Status: {status}\\n\\n\")\n",
    "        \n",
    "        file.write(f\" Top Performer: {top_student} with an average of {top_average:.2f}\\n\")\n",
    "    \n",
    "    print(\" Class Summary saved to class_summary.txt.\")\n",
    "     "
   ]
  },
  {
   "cell_type": "markdown",
   "id": "042d038f-db37-47b2-a5f0-8d6aeac1cc1b",
   "metadata": {},
   "source": [
    "### **Step 5:** Main Program"
   ]
  },
  {
   "cell_type": "markdown",
   "id": "967e2f55-65f6-4cb6-b5e2-20c7a369ea66",
   "metadata": {},
   "source": [
    "**Explanation:** This is the main function which the program start excution and follow the path to each of defined functions in this project."
   ]
  },
  {
   "cell_type": "code",
   "execution_count": 76,
   "id": "19f1854c-6d2c-4bca-ac77-1415cbdac9df",
   "metadata": {},
   "outputs": [
    {
     "name": "stdout",
     "output_type": "stream",
     "text": [
      "   Student Report Card Generator\n"
     ]
    },
    {
     "name": "stdin",
     "output_type": "stream",
     "text": [
      "Enter the number of subjects:  3\n",
      "Enter name of subject 1:  English\n",
      "Enter name of subject 2:  Biology\n",
      "Enter name of subject 3:  information Technology\n",
      "Enter the number of students:  3\n",
      "\n",
      "Enter student name:  Kaleab\n",
      "Enter Kaleab's score in English:  85\n",
      "Enter Kaleab's score in Biology:  70\n",
      "Enter Kaleab's score in Information Technology:  95\n",
      "\n",
      "Enter student name:  Matiw\n",
      "Enter Matiw's score in English:  80\n",
      "Enter Matiw's score in Biology:  45\n",
      "Enter Matiw's score in Information Technology:  90\n",
      "\n",
      "Enter student name:  Tuti\n",
      "Enter Tuti's score in English:  75\n",
      "Enter Tuti's score in Biology:  99\n",
      "Enter Tuti's score in Information Technology:  60\n"
     ]
    },
    {
     "name": "stdout",
     "output_type": "stream",
     "text": [
      "All individual reports saved successfully.\n",
      " Class Summary saved to class_summary.txt.\n"
     ]
    }
   ],
   "source": [
    "def main():\n",
    "    print(\"   Student Report Card Generator\")\n",
    "    students, _ = enter_student_data()\n",
    "    top_student, top_average = generate_and_save_reports(students)\n",
    "    save_class_summary(students, top_student, top_average)\n",
    "\n",
    "main()"
   ]
  }
 ],
 "metadata": {
  "kernelspec": {
   "display_name": "Python 3 (ipykernel)",
   "language": "python",
   "name": "python3"
  },
  "language_info": {
   "codemirror_mode": {
    "name": "ipython",
    "version": 3
   },
   "file_extension": ".py",
   "mimetype": "text/x-python",
   "name": "python",
   "nbconvert_exporter": "python",
   "pygments_lexer": "ipython3",
   "version": "3.12.4"
  }
 },
 "nbformat": 4,
 "nbformat_minor": 5
}
